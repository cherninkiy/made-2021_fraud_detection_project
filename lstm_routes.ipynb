{
 "cells": [
  {
   "cell_type": "code",
   "execution_count": 85,
   "id": "bcd4371b",
   "metadata": {},
   "outputs": [],
   "source": [
    "import pandas as pd\n",
    "import numpy as np\n",
    "from tqdm import tqdm\n",
    "import warnings\n",
    "warnings.filterwarnings(\"ignore\")"
   ]
  },
  {
   "cell_type": "code",
   "execution_count": 170,
   "id": "5247da3d",
   "metadata": {},
   "outputs": [],
   "source": [
    "data = pd.read_csv('data/matched_routs.csv')"
   ]
  },
  {
   "cell_type": "code",
   "execution_count": 171,
   "id": "3bcb7d5b",
   "metadata": {},
   "outputs": [
    {
     "name": "stderr",
     "output_type": "stream",
     "text": [
      "100%|██████████████████████████████████████████████████████████████████████████████| 1068/1068 [06:54<00:00,  2.58it/s]\n"
     ]
    }
   ],
   "source": [
    "columns_to_zero = ['gps_delta', 'gps_distance', 'gps_speed', 'tm_delta', 'tm_distance', 'tm_speed', 'tm_accel', 'diff_time', \n",
    "                   'diff_distance', 'diff_speed', 'ac_delta', 'ac_distance', 'ac_speed', 'delta']\n",
    "for route_id in tqdm(data['route_id'].unique()):\n",
    "    route_data = data[data['route_id'] == route_id]\n",
    "    # route_data['gps_time'] = pd.to_datetime(route_data['gps_time'])\n",
    "    # route_data.sort_values('gps_time', inplace=True)\n",
    "    # route_data.reset_index(drop=True, inplace=True)\n",
    "    route_data['delta'] = pd.to_datetime(route_data['gps_time']).diff().dt.total_seconds().fillna(0)\n",
    "    route_data['num'] = np.where((route_data['delta'] > 5 * 60) | (route_data.index == route_data.index[0]), route_data.index, np.nan)\n",
    "    data.loc[route_data[~route_data['num'].isna()].index, columns_to_zero] = 0\n",
    "    route_data['num'] = route_data['num'].ffill()\n",
    "    route_data['new_route_id'] = str(route_id) + '_' + route_data['num'].astype(str)\n",
    "    data.loc[route_data.index, 'new_route_id'] = route_data['new_route_id']"
   ]
  },
  {
   "cell_type": "code",
   "execution_count": 175,
   "id": "f3414011",
   "metadata": {},
   "outputs": [],
   "source": [
    "data.drop(['delta'], axis=1, inplace=True)"
   ]
  },
  {
   "cell_type": "code",
   "execution_count": 178,
   "id": "7a0e3c17",
   "metadata": {},
   "outputs": [],
   "source": [
    "data.to_csv('data/routes_new_id.csv', index=False)"
   ]
  }
 ],
 "metadata": {
  "kernelspec": {
   "display_name": "Python 3",
   "language": "python",
   "name": "python3"
  },
  "language_info": {
   "codemirror_mode": {
    "name": "ipython",
    "version": 3
   },
   "file_extension": ".py",
   "mimetype": "text/x-python",
   "name": "python",
   "nbconvert_exporter": "python",
   "pygments_lexer": "ipython3",
   "version": "3.8.8"
  }
 },
 "nbformat": 4,
 "nbformat_minor": 5
}
