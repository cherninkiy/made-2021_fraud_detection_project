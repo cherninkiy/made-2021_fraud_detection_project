{
 "cells": [
  {
   "cell_type": "code",
   "execution_count": 1,
   "metadata": {},
   "outputs": [
    {
     "name": "stderr",
     "output_type": "stream",
     "text": [
      "<frozen importlib._bootstrap>:219: RuntimeWarning: numpy.ufunc size changed, may indicate binary incompatibility. Expected 192 from C header, got 216 from PyObject\n"
     ]
    }
   ],
   "source": [
    "import pandas as pd\n",
    "import numpy as np\n",
    "import matplotlib.pyplot as plt\n",
    "from tqdm import tqdm\n",
    "from sklearn.cluster import KMeans"
   ]
  },
  {
   "cell_type": "code",
   "execution_count": 3,
   "metadata": {},
   "outputs": [],
   "source": [
    "import warnings\n",
    "warnings.filterwarnings('ignore')"
   ]
  },
  {
   "cell_type": "code",
   "execution_count": 8,
   "metadata": {},
   "outputs": [],
   "source": [
    "df = pd.read_csv('gps_data_outlier_preprocessed.csv', index_col=0)"
   ]
  },
  {
   "cell_type": "code",
   "execution_count": 9,
   "metadata": {},
   "outputs": [
    {
     "data": {
      "text/html": [
       "<div>\n",
       "<style scoped>\n",
       "    .dataframe tbody tr th:only-of-type {\n",
       "        vertical-align: middle;\n",
       "    }\n",
       "\n",
       "    .dataframe tbody tr th {\n",
       "        vertical-align: top;\n",
       "    }\n",
       "\n",
       "    .dataframe thead th {\n",
       "        text-align: right;\n",
       "    }\n",
       "</style>\n",
       "<table border=\"1\" class=\"dataframe\">\n",
       "  <thead>\n",
       "    <tr style=\"text-align: right;\">\n",
       "      <th></th>\n",
       "      <th>time</th>\n",
       "      <th>lat</th>\n",
       "      <th>lon</th>\n",
       "      <th>gps_time</th>\n",
       "      <th>driver_hash</th>\n",
       "      <th>fraud</th>\n",
       "      <th>gps_delta</th>\n",
       "      <th>gps_distance</th>\n",
       "      <th>gps_speed</th>\n",
       "      <th>gps_accel</th>\n",
       "      <th>...</th>\n",
       "      <th>tm_trip_max_speed</th>\n",
       "      <th>tm_trip_mean_accel</th>\n",
       "      <th>tm_trip_median_accel</th>\n",
       "      <th>tm_trip_max_accel</th>\n",
       "      <th>sin_hours</th>\n",
       "      <th>sin_min</th>\n",
       "      <th>sin_sec</th>\n",
       "      <th>cos_hours</th>\n",
       "      <th>cos_min</th>\n",
       "      <th>cos_sec</th>\n",
       "    </tr>\n",
       "  </thead>\n",
       "  <tbody>\n",
       "    <tr>\n",
       "      <th>0</th>\n",
       "      <td>2020-11-10 03:08:12</td>\n",
       "      <td>55.473589</td>\n",
       "      <td>37.705870</td>\n",
       "      <td>2020-11-10 03:08:12</td>\n",
       "      <td>-9218579406240981296</td>\n",
       "      <td>-1</td>\n",
       "      <td>0.0</td>\n",
       "      <td>0.0</td>\n",
       "      <td>0.000000</td>\n",
       "      <td>0.00000</td>\n",
       "      <td>...</td>\n",
       "      <td>0.00000</td>\n",
       "      <td>0.000000</td>\n",
       "      <td>0.00000</td>\n",
       "      <td>0.000000</td>\n",
       "      <td>0.707107</td>\n",
       "      <td>0.743145</td>\n",
       "      <td>9.510565e-01</td>\n",
       "      <td>7.071068e-01</td>\n",
       "      <td>0.669131</td>\n",
       "      <td>3.090170e-01</td>\n",
       "    </tr>\n",
       "    <tr>\n",
       "      <th>1</th>\n",
       "      <td>2020-11-10 03:42:48</td>\n",
       "      <td>55.473589</td>\n",
       "      <td>37.705870</td>\n",
       "      <td>2020-11-10 03:42:48</td>\n",
       "      <td>-9218579406240981296</td>\n",
       "      <td>-1</td>\n",
       "      <td>0.0</td>\n",
       "      <td>0.0</td>\n",
       "      <td>0.000000</td>\n",
       "      <td>0.00000</td>\n",
       "      <td>...</td>\n",
       "      <td>0.00000</td>\n",
       "      <td>0.000000</td>\n",
       "      <td>0.00000</td>\n",
       "      <td>0.000000</td>\n",
       "      <td>0.707107</td>\n",
       "      <td>-0.951057</td>\n",
       "      <td>-9.510565e-01</td>\n",
       "      <td>7.071068e-01</td>\n",
       "      <td>-0.309017</td>\n",
       "      <td>3.090170e-01</td>\n",
       "    </tr>\n",
       "    <tr>\n",
       "      <th>2</th>\n",
       "      <td>2020-11-10 06:38:31</td>\n",
       "      <td>55.473589</td>\n",
       "      <td>37.705870</td>\n",
       "      <td>2020-11-10 06:38:30</td>\n",
       "      <td>-9218579406240981296</td>\n",
       "      <td>-1</td>\n",
       "      <td>0.0</td>\n",
       "      <td>0.0</td>\n",
       "      <td>0.000000</td>\n",
       "      <td>0.00000</td>\n",
       "      <td>...</td>\n",
       "      <td>0.00000</td>\n",
       "      <td>0.000000</td>\n",
       "      <td>0.00000</td>\n",
       "      <td>0.000000</td>\n",
       "      <td>1.000000</td>\n",
       "      <td>-0.743145</td>\n",
       "      <td>1.224647e-16</td>\n",
       "      <td>6.123234e-17</td>\n",
       "      <td>-0.669131</td>\n",
       "      <td>-1.000000e+00</td>\n",
       "    </tr>\n",
       "    <tr>\n",
       "      <th>3</th>\n",
       "      <td>2020-11-10 06:54:36</td>\n",
       "      <td>55.473589</td>\n",
       "      <td>37.705870</td>\n",
       "      <td>2020-11-10 06:54:36</td>\n",
       "      <td>-9218579406240981296</td>\n",
       "      <td>-1</td>\n",
       "      <td>0.0</td>\n",
       "      <td>0.0</td>\n",
       "      <td>0.000000</td>\n",
       "      <td>0.00000</td>\n",
       "      <td>...</td>\n",
       "      <td>4259.41581</td>\n",
       "      <td>266.233163</td>\n",
       "      <td>0.00029</td>\n",
       "      <td>1419.780337</td>\n",
       "      <td>1.000000</td>\n",
       "      <td>-0.587785</td>\n",
       "      <td>-5.877853e-01</td>\n",
       "      <td>6.123234e-17</td>\n",
       "      <td>0.809017</td>\n",
       "      <td>-8.090170e-01</td>\n",
       "    </tr>\n",
       "    <tr>\n",
       "      <th>4</th>\n",
       "      <td>2020-11-10 06:56:45</td>\n",
       "      <td>55.473520</td>\n",
       "      <td>37.705963</td>\n",
       "      <td>2020-11-10 06:56:45</td>\n",
       "      <td>-9218579406240981296</td>\n",
       "      <td>-1</td>\n",
       "      <td>129.0</td>\n",
       "      <td>9.6</td>\n",
       "      <td>0.074798</td>\n",
       "      <td>0.00058</td>\n",
       "      <td>...</td>\n",
       "      <td>4259.41581</td>\n",
       "      <td>266.233163</td>\n",
       "      <td>0.00029</td>\n",
       "      <td>1419.780337</td>\n",
       "      <td>1.000000</td>\n",
       "      <td>-0.406737</td>\n",
       "      <td>-1.000000e+00</td>\n",
       "      <td>6.123234e-17</td>\n",
       "      <td>0.913545</td>\n",
       "      <td>-1.836970e-16</td>\n",
       "    </tr>\n",
       "  </tbody>\n",
       "</table>\n",
       "<p>5 rows × 59 columns</p>\n",
       "</div>"
      ],
      "text/plain": [
       "                  time        lat        lon             gps_time  \\\n",
       "0  2020-11-10 03:08:12  55.473589  37.705870  2020-11-10 03:08:12   \n",
       "1  2020-11-10 03:42:48  55.473589  37.705870  2020-11-10 03:42:48   \n",
       "2  2020-11-10 06:38:31  55.473589  37.705870  2020-11-10 06:38:30   \n",
       "3  2020-11-10 06:54:36  55.473589  37.705870  2020-11-10 06:54:36   \n",
       "4  2020-11-10 06:56:45  55.473520  37.705963  2020-11-10 06:56:45   \n",
       "\n",
       "           driver_hash  fraud  gps_delta  gps_distance  gps_speed  gps_accel  \\\n",
       "0 -9218579406240981296     -1        0.0           0.0   0.000000    0.00000   \n",
       "1 -9218579406240981296     -1        0.0           0.0   0.000000    0.00000   \n",
       "2 -9218579406240981296     -1        0.0           0.0   0.000000    0.00000   \n",
       "3 -9218579406240981296     -1        0.0           0.0   0.000000    0.00000   \n",
       "4 -9218579406240981296     -1      129.0           9.6   0.074798    0.00058   \n",
       "\n",
       "   ...  tm_trip_max_speed  tm_trip_mean_accel  tm_trip_median_accel  \\\n",
       "0  ...            0.00000            0.000000               0.00000   \n",
       "1  ...            0.00000            0.000000               0.00000   \n",
       "2  ...            0.00000            0.000000               0.00000   \n",
       "3  ...         4259.41581          266.233163               0.00029   \n",
       "4  ...         4259.41581          266.233163               0.00029   \n",
       "\n",
       "   tm_trip_max_accel  sin_hours   sin_min       sin_sec     cos_hours  \\\n",
       "0           0.000000   0.707107  0.743145  9.510565e-01  7.071068e-01   \n",
       "1           0.000000   0.707107 -0.951057 -9.510565e-01  7.071068e-01   \n",
       "2           0.000000   1.000000 -0.743145  1.224647e-16  6.123234e-17   \n",
       "3        1419.780337   1.000000 -0.587785 -5.877853e-01  6.123234e-17   \n",
       "4        1419.780337   1.000000 -0.406737 -1.000000e+00  6.123234e-17   \n",
       "\n",
       "    cos_min       cos_sec  \n",
       "0  0.669131  3.090170e-01  \n",
       "1 -0.309017  3.090170e-01  \n",
       "2 -0.669131 -1.000000e+00  \n",
       "3  0.809017 -8.090170e-01  \n",
       "4  0.913545 -1.836970e-16  \n",
       "\n",
       "[5 rows x 59 columns]"
      ]
     },
     "execution_count": 9,
     "metadata": {},
     "output_type": "execute_result"
    }
   ],
   "source": [
    "df.head()"
   ]
  },
  {
   "cell_type": "code",
   "execution_count": 10,
   "metadata": {},
   "outputs": [
    {
     "data": {
      "text/plain": [
       "Index(['time', 'lat', 'lon', 'gps_time', 'driver_hash', 'fraud', 'gps_delta',\n",
       "       'gps_distance', 'gps_speed', 'gps_accel', 'gps_outlier', 'gps_staying',\n",
       "       'tm_delta', 'tm_distance', 'tm_speed', 'tm_accel', 'tm_outlier',\n",
       "       'tm_staying', 'is_trip_start', 'is_buisness_day', 'is_rush_hour',\n",
       "       'gps_trip_duration', 'gps_trip_mean_timedelta',\n",
       "       'gps_trip_median_timedelta', 'gps_trip_max_timedelta',\n",
       "       'gps_trip_cum_timedelta', 'gps_trip_length', 'gps_trip_mean_dist',\n",
       "       'gps_trip_median_dist', 'gps_trip_max_dist', 'gps_trip_cum_dist',\n",
       "       'gps_trip_mean_speed', 'gps_trip_median_speed', 'gps_trip_max_speed',\n",
       "       'gps_trip_mean_accel', 'gps_trip_median_accel', 'gps_trip_max_accel',\n",
       "       'tm_trip_duration', 'tm_trip_mean_timedelta',\n",
       "       'tm_trip_median_timedelta', 'tm_trip_max_timedelta',\n",
       "       'tm_trip_cum_timedelta', 'tm_trip_length', 'tm_trip_mean_dist',\n",
       "       'tm_trip_median_dist', 'tm_trip_max_dist', 'tm_trip_cum_dist',\n",
       "       'tm_trip_mean_speed', 'tm_trip_median_speed', 'tm_trip_max_speed',\n",
       "       'tm_trip_mean_accel', 'tm_trip_median_accel', 'tm_trip_max_accel',\n",
       "       'sin_hours', 'sin_min', 'sin_sec', 'cos_hours', 'cos_min', 'cos_sec'],\n",
       "      dtype='object')"
      ]
     },
     "execution_count": 10,
     "metadata": {},
     "output_type": "execute_result"
    }
   ],
   "source": [
    "df.columns"
   ]
  },
  {
   "cell_type": "code",
   "execution_count": 11,
   "metadata": {},
   "outputs": [],
   "source": [
    "features = [\n",
    "    'gps_delta',\n",
    "       'gps_distance', 'gps_speed', 'gps_accel', 'gps_outlier', 'gps_staying',\n",
    "       'tm_delta', 'tm_distance', 'tm_speed', 'tm_accel', 'tm_outlier',\n",
    "       'tm_staying', 'is_trip_start', 'is_buisness_day', 'is_rush_hour',\n",
    "       'gps_trip_duration', 'gps_trip_mean_timedelta',\n",
    "       'gps_trip_median_timedelta', 'gps_trip_max_timedelta',\n",
    "       'gps_trip_cum_timedelta', 'gps_trip_length', 'gps_trip_mean_dist',\n",
    "       'gps_trip_median_dist', 'gps_trip_max_dist', 'gps_trip_cum_dist',\n",
    "       'gps_trip_mean_speed', 'gps_trip_median_speed', 'gps_trip_max_speed',\n",
    "       'gps_trip_mean_accel', 'gps_trip_median_accel', 'gps_trip_max_accel',\n",
    "       'tm_trip_duration', 'tm_trip_mean_timedelta',\n",
    "       'tm_trip_median_timedelta', 'tm_trip_max_timedelta',\n",
    "       'tm_trip_cum_timedelta', 'tm_trip_length', 'tm_trip_mean_dist',\n",
    "       'tm_trip_median_dist', 'tm_trip_max_dist', 'tm_trip_cum_dist',\n",
    "       'tm_trip_mean_speed', 'tm_trip_median_speed', 'tm_trip_max_speed',\n",
    "       'tm_trip_mean_accel', 'tm_trip_median_accel', 'tm_trip_max_accel',\n",
    "       'sin_hours', 'sin_min', 'sin_sec', 'cos_hours', 'cos_min', 'cos_sec'\n",
    "]"
   ]
  },
  {
   "cell_type": "code",
   "execution_count": 12,
   "metadata": {},
   "outputs": [
    {
     "data": {
      "text/plain": [
       "53"
      ]
     },
     "execution_count": 12,
     "metadata": {},
     "output_type": "execute_result"
    }
   ],
   "source": [
    "len(features)"
   ]
  },
  {
   "cell_type": "code",
   "execution_count": 14,
   "metadata": {},
   "outputs": [],
   "source": [
    "X = df[features]"
   ]
  },
  {
   "cell_type": "code",
   "execution_count": 22,
   "metadata": {},
   "outputs": [],
   "source": [
    "models = {i: KMeans(n_clusters=i, max_iter=100000, random_state=42) for i in range(2, 11)}"
   ]
  },
  {
   "cell_type": "code",
   "execution_count": 24,
   "metadata": {},
   "outputs": [
    {
     "name": "stdout",
     "output_type": "stream",
     "text": [
      "Fit model 2\n",
      "Fit model 3\n",
      "Fit model 4\n",
      "Fit model 5\n",
      "Fit model 6\n",
      "Fit model 7\n",
      "Fit model 8\n",
      "Fit model 9\n",
      "Fit model 10\n"
     ]
    }
   ],
   "source": [
    "for i, model in models.items():\n",
    "    model.fit(X)\n",
    "    print(f'Fit model {i}')"
   ]
  },
  {
   "cell_type": "code",
   "execution_count": 25,
   "metadata": {},
   "outputs": [],
   "source": [
    "from sklearn.decomposition import PCA"
   ]
  },
  {
   "cell_type": "code",
   "execution_count": 26,
   "metadata": {},
   "outputs": [],
   "source": [
    "pca = PCA(n_components=2, random_state=42)\n",
    "X_pca = pca.fit_transform(X)"
   ]
  },
  {
   "cell_type": "markdown",
   "metadata": {},
   "source": [
    "## 2 кластера"
   ]
  },
  {
   "cell_type": "code",
   "execution_count": 39,
   "metadata": {},
   "outputs": [
    {
     "data": {
      "image/png": "[encoded data removed]",
      "text/plain": [
       "<Figure size 1152x720 with 1 Axes>"
      ]
     },
     "metadata": {
      "needs_background": "light"
     },
     "output_type": "display_data"
    }
   ],
   "source": [
    "fig, ax = plt.subplots()\n",
    "fig.set_figheight(10)\n",
    "fig.set_figwidth(16)\n",
    "\n",
    "model = models[2]\n",
    "y = model.predict(X)\n",
    "scatter = plt.scatter(X_pca[:, 0], X_pca[:, 1], c=y, s=100, cmap='tab20')\n",
    "legend = ax.legend(*scatter.legend_elements(), title=\"Classes\")\n",
    "ax.add_artist(legend)\n",
    "plt.show()"
   ]
  },
  {
   "cell_type": "code",
   "execution_count": 40,
   "metadata": {},
   "outputs": [
    {
     "data": {
      "text/plain": [
       "0    5017790\n",
       "1       2721\n",
       "dtype: int64"
      ]
     },
     "execution_count": 40,
     "metadata": {},
     "output_type": "execute_result"
    }
   ],
   "source": [
    "y = pd.Series(y)\n",
    "y.value_counts()"
   ]
  },
  {
   "cell_type": "code",
   "execution_count": 51,
   "metadata": {},
   "outputs": [
    {
     "name": "stdout",
     "output_type": "stream",
     "text": [
      "Процент фрода в кластере 0: 2.12%\n",
      "Процент фрода в кластере 1: 3.79%\n"
     ]
    }
   ],
   "source": [
    "cluster_df = pd.DataFrame({'fraud': df.fraud.copy(), 'cluster': y})\n",
    "for i in cluster_df.cluster.unique():\n",
    "    group = cluster_df[cluster_df.cluster == i]\n",
    "    fraud = group.fraud.value_counts()[1] if 1 in group.fraud.value_counts().index else 0\n",
    "    print(f'Процент фрода в кластере {i}: {fraud / len(group) * 100:.2f}%')"
   ]
  },
  {
   "cell_type": "markdown",
   "metadata": {},
   "source": [
    "## 3 кластера"
   ]
  },
  {
   "cell_type": "code",
   "execution_count": 87,
   "metadata": {},
   "outputs": [
    {
     "data": {
      "image/png": "[encoded data removed]",
      "text/plain": [
       "<Figure size 1152x720 with 1 Axes>"
      ]
     },
     "metadata": {
      "needs_background": "light"
     },
     "output_type": "display_data"
    }
   ],
   "source": [
    "fig, ax = plt.subplots()\n",
    "fig.set_figheight(10)\n",
    "fig.set_figwidth(16)\n",
    "\n",
    "model = models[3]\n",
    "y = model.predict(X)\n",
    "scatter = plt.scatter(X_pca[:, 0], X_pca[:, 1], c=y, s=100, cmap='tab20')\n",
    "legend = ax.legend(*scatter.legend_elements(), title=\"Classes\")\n",
    "ax.add_artist(legend)\n",
    "plt.show()"
   ]
  },
  {
   "cell_type": "code",
   "execution_count": 53,
   "metadata": {},
   "outputs": [
    {
     "data": {
      "text/plain": [
       "0    5014850\n",
       "1       2940\n",
       "2       2721\n",
       "dtype: int64"
      ]
     },
     "execution_count": 53,
     "metadata": {},
     "output_type": "execute_result"
    }
   ],
   "source": [
    "y = pd.Series(y)\n",
    "y.value_counts()"
   ]
  },
  {
   "cell_type": "code",
   "execution_count": 54,
   "metadata": {},
   "outputs": [
    {
     "name": "stdout",
     "output_type": "stream",
     "text": [
      "Процент фрода в кластере 0: 2.10%\n",
      "Процент фрода в кластере 2: 3.79%\n",
      "Процент фрода в кластере 1: 40.85%\n"
     ]
    }
   ],
   "source": [
    "cluster_df = pd.DataFrame({'fraud': df.fraud.copy(), 'cluster': y})\n",
    "for i in cluster_df.cluster.unique():\n",
    "    group = cluster_df[cluster_df.cluster == i]\n",
    "    fraud = group.fraud.value_counts()[1] if 1 in group.fraud.value_counts().index else 0\n",
    "    print(f'Процент фрода в кластере {i}: {fraud / len(group) * 100:.2f}%')"
   ]
  },
  {
   "cell_type": "markdown",
   "metadata": {},
   "source": [
    "## 4 кластера"
   ]
  },
  {
   "cell_type": "code",
   "execution_count": 55,
   "metadata": {},
   "outputs": [
    {
     "data": {
      "image/png": "[encoded data removed]",
      "text/plain": [
       "<Figure size 1152x720 with 1 Axes>"
      ]
     },
     "metadata": {
      "needs_background": "light"
     },
     "output_type": "display_data"
    }
   ],
   "source": [
    "fig, ax = plt.subplots()\n",
    "fig.set_figheight(10)\n",
    "fig.set_figwidth(16)\n",
    "\n",
    "model = models[4]\n",
    "y = model.predict(X)\n",
    "scatter = plt.scatter(X_pca[:, 0], X_pca[:, 1], c=y, s=100, cmap='tab20')\n",
    "legend = ax.legend(*scatter.legend_elements(), title=\"Classes\")\n",
    "ax.add_artist(legend)\n",
    "plt.show()"
   ]
  },
  {
   "cell_type": "code",
   "execution_count": 58,
   "metadata": {},
   "outputs": [
    {
     "data": {
      "text/plain": [
       "0    4921383\n",
       "3      93467\n",
       "2       2940\n",
       "1       2721\n",
       "dtype: int64"
      ]
     },
     "execution_count": 58,
     "metadata": {},
     "output_type": "execute_result"
    }
   ],
   "source": [
    "y = pd.Series(y)\n",
    "y.value_counts()"
   ]
  },
  {
   "cell_type": "code",
   "execution_count": 66,
   "metadata": {},
   "outputs": [
    {
     "name": "stdout",
     "output_type": "stream",
     "text": [
      "Процент фрода в кластере 0: 2.14%\n",
      "Процент фрода в кластере 1: 3.79%\n",
      "Процент фрода в кластере 3: 0.00%\n",
      "Процент фрода в кластере 2: 40.85%\n"
     ]
    }
   ],
   "source": [
    "cluster_df = pd.DataFrame({'fraud': df.fraud.copy(), 'cluster': y})\n",
    "for i in cluster_df.cluster.unique():\n",
    "    group = cluster_df[cluster_df.cluster == i]\n",
    "    fraud = group.fraud.value_counts()[1] if 1 in group.fraud.value_counts().index else 0\n",
    "    print(f'Процент фрода в кластере {i}: {fraud / len(group) * 100:.2f}%')"
   ]
  },
  {
   "cell_type": "markdown",
   "metadata": {},
   "source": [
    "## 5 кластеров"
   ]
  },
  {
   "cell_type": "code",
   "execution_count": 67,
   "metadata": {},
   "outputs": [
    {
     "data": {
      "image/png": "[encoded data removed]",
      "text/plain": [
       "<Figure size 1152x720 with 1 Axes>"
      ]
     },
     "metadata": {
      "needs_background": "light"
     },
     "output_type": "display_data"
    }
   ],
   "source": [
    "fig, ax = plt.subplots()\n",
    "fig.set_figheight(10)\n",
    "fig.set_figwidth(16)\n",
    "\n",
    "model = models[5]\n",
    "y = model.predict(X)\n",
    "scatter = plt.scatter(X_pca[:, 0], X_pca[:, 1], c=y, s=100, cmap='tab20')\n",
    "legend = ax.legend(*scatter.legend_elements(), title=\"Classes\")\n",
    "ax.add_artist(legend)\n",
    "plt.show()"
   ]
  },
  {
   "cell_type": "code",
   "execution_count": 68,
   "metadata": {},
   "outputs": [
    {
     "data": {
      "text/plain": [
       "0    4921309\n",
       "3      93513\n",
       "1       2721\n",
       "2       2083\n",
       "4        885\n",
       "dtype: int64"
      ]
     },
     "execution_count": 68,
     "metadata": {},
     "output_type": "execute_result"
    }
   ],
   "source": [
    "y = pd.Series(y)\n",
    "y.value_counts()"
   ]
  },
  {
   "cell_type": "code",
   "execution_count": 69,
   "metadata": {},
   "outputs": [
    {
     "name": "stdout",
     "output_type": "stream",
     "text": [
      "Процент фрода в кластере 0: 2.14%\n",
      "Процент фрода в кластере 1: 3.79%\n",
      "Процент фрода в кластере 2: 15.17%\n",
      "Процент фрода в кластере 4: 100.00%\n",
      "Процент фрода в кластере 3: 0.00%\n"
     ]
    }
   ],
   "source": [
    "cluster_df = pd.DataFrame({'fraud': df.fraud.copy(), 'cluster': y})\n",
    "for i in cluster_df.cluster.unique():\n",
    "    group = cluster_df[cluster_df.cluster == i]\n",
    "    fraud = group.fraud.value_counts()[1] if 1 in group.fraud.value_counts().index else 0\n",
    "    print(f'Процент фрода в кластере {i}: {fraud / len(group) * 100:.2f}%')"
   ]
  },
  {
   "cell_type": "markdown",
   "metadata": {},
   "source": [
    "## 6 кластеров"
   ]
  },
  {
   "cell_type": "code",
   "execution_count": 70,
   "metadata": {},
   "outputs": [
    {
     "data": {
      "image/png": "[encoded data removed]",
      "text/plain": [
       "<Figure size 1152x720 with 1 Axes>"
      ]
     },
     "metadata": {
      "needs_background": "light"
     },
     "output_type": "display_data"
    }
   ],
   "source": [
    "fig, ax = plt.subplots()\n",
    "fig.set_figheight(10)\n",
    "fig.set_figwidth(16)\n",
    "\n",
    "model = models[6]\n",
    "y = model.predict(X)\n",
    "scatter = plt.scatter(X_pca[:, 0], X_pca[:, 1], c=y, s=100, cmap='tab20')\n",
    "legend = ax.legend(*scatter.legend_elements(), title=\"Classes\")\n",
    "ax.add_artist(legend)\n",
    "plt.show()"
   ]
  },
  {
   "cell_type": "code",
   "execution_count": 71,
   "metadata": {},
   "outputs": [
    {
     "data": {
      "text/plain": [
       "0    3871276\n",
       "5    1067987\n",
       "3      75559\n",
       "1       2721\n",
       "2       2083\n",
       "4        885\n",
       "dtype: int64"
      ]
     },
     "execution_count": 71,
     "metadata": {},
     "output_type": "execute_result"
    }
   ],
   "source": [
    "y = pd.Series(y)\n",
    "y.value_counts()"
   ]
  },
  {
   "cell_type": "code",
   "execution_count": 72,
   "metadata": {},
   "outputs": [
    {
     "name": "stdout",
     "output_type": "stream",
     "text": [
      "Процент фрода в кластере 0: 2.51%\n",
      "Процент фрода в кластере 5: 0.74%\n",
      "Процент фрода в кластере 1: 3.79%\n",
      "Процент фрода в кластере 2: 15.17%\n",
      "Процент фрода в кластере 4: 100.00%\n",
      "Процент фрода в кластере 3: 0.00%\n"
     ]
    }
   ],
   "source": [
    "cluster_df = pd.DataFrame({'fraud': df.fraud.copy(), 'cluster': y})\n",
    "for i in cluster_df.cluster.unique():\n",
    "    group = cluster_df[cluster_df.cluster == i]\n",
    "    fraud = group.fraud.value_counts()[1] if 1 in group.fraud.value_counts().index else 0\n",
    "    print(f'Процент фрода в кластере {i}: {fraud / len(group) * 100:.2f}%')"
   ]
  },
  {
   "cell_type": "markdown",
   "metadata": {},
   "source": [
    "## 7 кластеров"
   ]
  },
  {
   "cell_type": "code",
   "execution_count": 74,
   "metadata": {},
   "outputs": [
    {
     "data": {
      "image/png": "[encoded data removed]",
      "text/plain": [
       "<Figure size 1152x720 with 1 Axes>"
      ]
     },
     "metadata": {
      "needs_background": "light"
     },
     "output_type": "display_data"
    }
   ],
   "source": [
    "fig, ax = plt.subplots()\n",
    "fig.set_figheight(10)\n",
    "fig.set_figwidth(16)\n",
    "\n",
    "model = models[7]\n",
    "y = model.predict(X)\n",
    "scatter = plt.scatter(X_pca[:, 0], X_pca[:, 1], c=y, s=100, cmap='tab20')\n",
    "legend = ax.legend(*scatter.legend_elements(), title=\"Classes\")\n",
    "ax.add_artist(legend)\n",
    "plt.show()"
   ]
  },
  {
   "cell_type": "code",
   "execution_count": 75,
   "metadata": {},
   "outputs": [
    {
     "data": {
      "text/plain": [
       "0    3871276\n",
       "5    1067987\n",
       "3      75559\n",
       "1       2721\n",
       "2       1739\n",
       "4        885\n",
       "6        344\n",
       "dtype: int64"
      ]
     },
     "execution_count": 75,
     "metadata": {},
     "output_type": "execute_result"
    }
   ],
   "source": [
    "y = pd.Series(y)\n",
    "y.value_counts()"
   ]
  },
  {
   "cell_type": "code",
   "execution_count": 76,
   "metadata": {},
   "outputs": [
    {
     "name": "stdout",
     "output_type": "stream",
     "text": [
      "Процент фрода в кластере 0: 2.51%\n",
      "Процент фрода в кластере 5: 0.74%\n",
      "Процент фрода в кластере 1: 3.79%\n",
      "Процент фрода в кластере 6: 91.86%\n",
      "Процент фрода в кластере 2: 0.00%\n",
      "Процент фрода в кластере 4: 100.00%\n",
      "Процент фрода в кластере 3: 0.00%\n"
     ]
    }
   ],
   "source": [
    "cluster_df = pd.DataFrame({'fraud': df.fraud.copy(), 'cluster': y})\n",
    "for i in cluster_df.cluster.unique():\n",
    "    group = cluster_df[cluster_df.cluster == i]\n",
    "    fraud = group.fraud.value_counts()[1] if 1 in group.fraud.value_counts().index else 0\n",
    "    print(f'Процент фрода в кластере {i}: {fraud / len(group) * 100:.2f}%')"
   ]
  },
  {
   "cell_type": "markdown",
   "metadata": {},
   "source": [
    "## 8 кластеров"
   ]
  },
  {
   "cell_type": "code",
   "execution_count": 77,
   "metadata": {},
   "outputs": [
    {
     "data": {
      "image/png": "[encoded data removed]",
      "text/plain": [
       "<Figure size 1152x720 with 1 Axes>"
      ]
     },
     "metadata": {
      "needs_background": "light"
     },
     "output_type": "display_data"
    }
   ],
   "source": [
    "fig, ax = plt.subplots()\n",
    "fig.set_figheight(10)\n",
    "fig.set_figwidth(16)\n",
    "\n",
    "model = models[8]\n",
    "y = model.predict(X)\n",
    "scatter = plt.scatter(X_pca[:, 0], X_pca[:, 1], c=y, s=100, cmap='tab20')\n",
    "legend = ax.legend(*scatter.legend_elements(), title=\"Classes\")\n",
    "ax.add_artist(legend)\n",
    "plt.show()"
   ]
  },
  {
   "cell_type": "code",
   "execution_count": 78,
   "metadata": {},
   "outputs": [
    {
     "data": {
      "text/plain": [
       "7    2706884\n",
       "0    1631610\n",
       "5     600769\n",
       "3      75559\n",
       "1       2721\n",
       "2       1739\n",
       "4        885\n",
       "6        344\n",
       "dtype: int64"
      ]
     },
     "execution_count": 78,
     "metadata": {},
     "output_type": "execute_result"
    }
   ],
   "source": [
    "y = pd.Series(y)\n",
    "y.value_counts()"
   ]
  },
  {
   "cell_type": "code",
   "execution_count": 79,
   "metadata": {},
   "outputs": [
    {
     "name": "stdout",
     "output_type": "stream",
     "text": [
      "Процент фрода в кластере 7: 3.16%\n",
      "Процент фрода в кластере 0: 1.21%\n",
      "Процент фрода в кластере 5: 0.00%\n",
      "Процент фрода в кластере 1: 3.79%\n",
      "Процент фрода в кластере 6: 91.86%\n",
      "Процент фрода в кластере 2: 0.00%\n",
      "Процент фрода в кластере 4: 100.00%\n",
      "Процент фрода в кластере 3: 0.00%\n"
     ]
    }
   ],
   "source": [
    "cluster_df = pd.DataFrame({'fraud': df.fraud.copy(), 'cluster': y})\n",
    "for i in cluster_df.cluster.unique():\n",
    "    group = cluster_df[cluster_df.cluster == i]\n",
    "    fraud = group.fraud.value_counts()[1] if 1 in group.fraud.value_counts().index else 0\n",
    "    print(f'Процент фрода в кластере {i}: {fraud / len(group) * 100:.2f}%')"
   ]
  },
  {
   "cell_type": "markdown",
   "metadata": {},
   "source": [
    "## 9 кластеров"
   ]
  },
  {
   "cell_type": "code",
   "execution_count": 80,
   "metadata": {},
   "outputs": [
    {
     "data": {
      "image/png": "[encoded data removed]",
      "text/plain": [
       "<Figure size 1152x720 with 1 Axes>"
      ]
     },
     "metadata": {
      "needs_background": "light"
     },
     "output_type": "display_data"
    }
   ],
   "source": [
    "fig, ax = plt.subplots()\n",
    "fig.set_figheight(10)\n",
    "fig.set_figwidth(16)\n",
    "\n",
    "model = models[9]\n",
    "y = model.predict(X)\n",
    "scatter = plt.scatter(X_pca[:, 0], X_pca[:, 1], c=y, s=100, cmap='tab20')\n",
    "legend = ax.legend(*scatter.legend_elements(), title=\"Classes\")\n",
    "ax.add_artist(legend)\n",
    "plt.show()"
   ]
  },
  {
   "cell_type": "code",
   "execution_count": 81,
   "metadata": {},
   "outputs": [
    {
     "data": {
      "text/plain": [
       "3    2741578\n",
       "7    1602908\n",
       "0     594777\n",
       "8      38200\n",
       "5      37359\n",
       "2       2721\n",
       "4       1739\n",
       "1        885\n",
       "6        344\n",
       "dtype: int64"
      ]
     },
     "execution_count": 81,
     "metadata": {},
     "output_type": "execute_result"
    }
   ],
   "source": [
    "y = pd.Series(y)\n",
    "y.value_counts()"
   ]
  },
  {
   "cell_type": "code",
   "execution_count": 82,
   "metadata": {},
   "outputs": [
    {
     "name": "stdout",
     "output_type": "stream",
     "text": [
      "Процент фрода в кластере 3: 3.13%\n",
      "Процент фрода в кластере 7: 1.21%\n",
      "Процент фрода в кластере 0: 0.00%\n",
      "Процент фрода в кластере 2: 3.79%\n",
      "Процент фрода в кластере 6: 91.86%\n",
      "Процент фрода в кластере 4: 0.00%\n",
      "Процент фрода в кластере 1: 100.00%\n",
      "Процент фрода в кластере 5: 0.00%\n",
      "Процент фрода в кластере 8: 0.00%\n"
     ]
    }
   ],
   "source": [
    "cluster_df = pd.DataFrame({'fraud': df.fraud.copy(), 'cluster': y})\n",
    "for i in cluster_df.cluster.unique():\n",
    "    group = cluster_df[cluster_df.cluster == i]\n",
    "    fraud = group.fraud.value_counts()[1] if 1 in group.fraud.value_counts().index else 0\n",
    "    print(f'Процент фрода в кластере {i}: {fraud / len(group) * 100:.2f}%')"
   ]
  },
  {
   "cell_type": "markdown",
   "metadata": {},
   "source": [
    "## 10 кластеров"
   ]
  },
  {
   "cell_type": "code",
   "execution_count": 83,
   "metadata": {},
   "outputs": [
    {
     "data": {
      "image/png": "[encoded data removed]",
      "text/plain": [
       "<Figure size 1152x720 with 1 Axes>"
      ]
     },
     "metadata": {
      "needs_background": "light"
     },
     "output_type": "display_data"
    }
   ],
   "source": [
    "fig, ax = plt.subplots()\n",
    "fig.set_figheight(10)\n",
    "fig.set_figwidth(16)\n",
    "\n",
    "model = models[10]\n",
    "y = model.predict(X)\n",
    "scatter = plt.scatter(X_pca[:, 0], X_pca[:, 1], c=y, s=100, cmap='tab20')\n",
    "legend = ax.legend(*scatter.legend_elements(), title=\"Classes\")\n",
    "ax.add_artist(legend)\n",
    "plt.show()"
   ]
  },
  {
   "cell_type": "code",
   "execution_count": 84,
   "metadata": {},
   "outputs": [
    {
     "data": {
      "text/plain": [
       "3    2583494\n",
       "8    1598265\n",
       "0     501873\n",
       "7     255631\n",
       "5      38201\n",
       "9      37358\n",
       "1       2721\n",
       "4       1739\n",
       "2        885\n",
       "6        344\n",
       "dtype: int64"
      ]
     },
     "execution_count": 84,
     "metadata": {},
     "output_type": "execute_result"
    }
   ],
   "source": [
    "y = pd.Series(y)\n",
    "y.value_counts()"
   ]
  },
  {
   "cell_type": "code",
   "execution_count": 85,
   "metadata": {},
   "outputs": [
    {
     "name": "stdout",
     "output_type": "stream",
     "text": [
      "Процент фрода в кластере 3: 3.28%\n",
      "Процент фрода в кластере 8: 1.29%\n",
      "Процент фрода в кластере 0: 0.00%\n",
      "Процент фрода в кластере 7: 0.00%\n",
      "Процент фрода в кластере 1: 3.79%\n",
      "Процент фрода в кластере 6: 91.86%\n",
      "Процент фрода в кластере 4: 0.00%\n",
      "Процент фрода в кластере 2: 100.00%\n",
      "Процент фрода в кластере 9: 0.00%\n",
      "Процент фрода в кластере 5: 0.00%\n"
     ]
    }
   ],
   "source": [
    "cluster_df = pd.DataFrame({'fraud': df.fraud.copy(), 'cluster': y})\n",
    "for i in cluster_df.cluster.unique():\n",
    "    group = cluster_df[cluster_df.cluster == i]\n",
    "    fraud = group.fraud.value_counts()[1] if 1 in group.fraud.value_counts().index else 0\n",
    "    print(f'Процент фрода в кластере {i}: {fraud / len(group) * 100:.2f}%')"
   ]
  },
  {
   "cell_type": "code",
   "execution_count": null,
   "metadata": {},
   "outputs": [],
   "source": []
  }
 ],
 "metadata": {
  "kernelspec": {
   "display_name": "Python 3",
   "language": "python",
   "name": "python3"
  },
  "language_info": {
   "codemirror_mode": {
    "name": "ipython",
    "version": 3
   },
   "file_extension": ".py",
   "mimetype": "text/x-python",
   "name": "python",
   "nbconvert_exporter": "python",
   "pygments_lexer": "ipython3",
   "version": "3.8.3"
  }
 },
 "nbformat": 4,
 "nbformat_minor": 4
}
